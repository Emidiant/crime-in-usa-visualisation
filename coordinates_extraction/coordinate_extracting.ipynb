{
 "cells": [
  {
   "cell_type": "code",
   "execution_count": 128,
   "outputs": [],
   "source": [
    "import pandas as pd\n",
    "import json\n",
    "import string"
   ],
   "metadata": {
    "collapsed": false,
    "pycharm": {
     "name": "#%%\n"
    }
   }
  },
  {
   "cell_type": "markdown",
   "source": [
    "# Coordinate extraction for states"
   ],
   "metadata": {
    "collapsed": false,
    "pycharm": {
     "name": "#%% md\n"
    }
   }
  },
  {
   "cell_type": "code",
   "execution_count": 131,
   "outputs": [],
   "source": [
    "states = pd.read_csv(\"state_coordinates/csv/USA_notion.csv\")\n",
    "states[\"file_name\"] = states[\"GeoJson File\"].apply(lambda x: x.split(\"/\")[-1])"
   ],
   "metadata": {
    "collapsed": false,
    "pycharm": {
     "name": "#%%\n"
    }
   }
  },
  {
   "cell_type": "code",
   "execution_count": 139,
   "outputs": [],
   "source": [
    "def add_first_y_mirror(poly):\n",
    "    points = [[point[0], -point[1]] for point in poly]\n",
    "    first_point = points[0]\n",
    "    points += [first_point]\n",
    "    return points"
   ],
   "metadata": {
    "collapsed": false,
    "pycharm": {
     "name": "#%%\n"
    }
   }
  },
  {
   "cell_type": "code",
   "execution_count": 140,
   "outputs": [],
   "source": [
    "def get_coordinates(geojson):\n",
    "    polygon = geojson[\"features\"][0][\"geometry\"][\"coordinates\"][0]\n",
    "    points = add_first_y_mirror(polygon)\n",
    "    return points"
   ],
   "metadata": {
    "collapsed": false,
    "pycharm": {
     "name": "#%%\n"
    }
   }
  },
  {
   "cell_type": "code",
   "execution_count": 145,
   "outputs": [],
   "source": [
    "def get_problem_coordinates(geojson):\n",
    "    coord = geojson[\"features\"][0][\"geometry\"][\"coordinates\"]\n",
    "    multi_poly = []\n",
    "    for poly in coord:\n",
    "        poly_points = add_first_y_mirror(poly[0])\n",
    "        multi_poly.append(poly_points)\n",
    "    return multi_poly"
   ],
   "metadata": {
    "collapsed": false,
    "pycharm": {
     "name": "#%%\n"
    }
   }
  },
  {
   "cell_type": "code",
   "execution_count": 177,
   "outputs": [
    {
     "name": "stdout",
     "output_type": "stream",
     "text": [
      "alabama.geojson polygon\n",
      "Alaska.geojson multipolygon\n",
      "Arizona.geojson polygon\n",
      "Arkansas.geojson polygon\n",
      "California.geojson multipolygon\n",
      "Colorado.geojson polygon\n",
      "Connecticut.geojson polygon\n",
      "Delaware.geojson polygon\n",
      "Florida.geojson multipolygon\n",
      "Georgia.geojson polygon\n",
      "Hawaii.geojson multipolygon\n",
      "Idaho.geojson polygon\n",
      "Illinois.geojson polygon\n",
      "Indiana.geojson polygon\n",
      "Iowa.geojson polygon\n",
      "Kansas.geojson polygon\n",
      "Kentucky.geojson multipolygon\n",
      "Louisiana.geojson polygon\n",
      "Maine.geojson multipolygon\n",
      "Maryland.geojson polygon\n",
      "Massachusetts.geojson polygon\n",
      "Michigan.geojson polygon\n",
      "Minnesota.geojson polygon\n",
      "Mississippi.geojson polygon\n",
      "Missouri.geojson polygon\n",
      "Montana.geojson polygon\n",
      "Nebraska.geojson polygon\n",
      "Nevada.geojson polygon\n",
      "New_Hampshire.geojson polygon\n",
      "New_Jersey.geojson polygon\n",
      "New_Mexico.geojson polygon\n",
      "New_York.geojson multipolygon\n",
      "North_Carolina.geojson polygon\n",
      "North_Dakota.geojson polygon\n",
      "Ohio.geojson polygon\n",
      "Oklahoma.geojson polygon\n",
      "oregon.geojson polygon\n",
      "Pennsylvania.geojson polygon\n",
      "Rhode_Island.geojson multipolygon\n",
      "South_Carolina.geojson polygon\n",
      "South_Dakota.geojson polygon\n",
      "Tennessee.geojson polygon\n",
      "Texas.geojson polygon\n",
      "Utah.geojson polygon\n",
      "Vermont.geojson polygon\n",
      "Virginia.geojson polygon\n",
      "washington.geojson polygon\n",
      "West_Virginia.geojson polygon\n",
      "Wisconsin.geojson polygon\n",
      "Wyoming.geojson polygon\n"
     ]
    }
   ],
   "source": [
    "states_dict = {}\n",
    "problem_state = {}\n",
    "for f_name in states[\"file_name\"].values.tolist():\n",
    "    f_name_rep = f_name.replace(\"_\", \" \")\n",
    "    with open(f\"state_coordinates/geojson/{f_name_rep}\") as f:\n",
    "            geo_file = f.read()\n",
    "    file_content = json.loads(geo_file)\n",
    "    if len(file_content[\"features\"][0][\"geometry\"][\"coordinates\"]) == 1 or f_name == \"New_Jersey.geojson\":\n",
    "        print(f_name, \"polygon\")\n",
    "        states_dict[f_name_rep] = [\"polygon\", get_coordinates(file_content)]\n",
    "    else:\n",
    "        print(f_name, \"multipolygon\")\n",
    "        states_dict[f_name_rep] = [\"multipolygon\", get_problem_coordinates(file_content)]"
   ],
   "metadata": {
    "collapsed": false,
    "pycharm": {
     "name": "#%%\n"
    }
   }
  },
  {
   "cell_type": "code",
   "execution_count": 178,
   "outputs": [],
   "source": [
    "coordinates = pd.DataFrame.from_dict(states_dict, orient=\"index\", columns=[\"type\", \"coordinates\"]).reset_index().rename({\"index\": \"file_name\"}, axis=1)\n",
    "coordinates[\"state\"] = coordinates[\"file_name\"].apply(lambda x: string.capwords(x.split(\".\")[0]))"
   ],
   "metadata": {
    "collapsed": false,
    "pycharm": {
     "name": "#%%\n"
    }
   }
  },
  {
   "cell_type": "code",
   "execution_count": 179,
   "outputs": [
    {
     "data": {
      "text/plain": "            file_name          type  \\\n0     alabama.geojson       polygon   \n1      Alaska.geojson  multipolygon   \n2     Arizona.geojson       polygon   \n3    Arkansas.geojson       polygon   \n4  California.geojson  multipolygon   \n\n                                         coordinates       state  \n0  [[-88.3956563, -30.3812365], [-88.3942367, -30...     Alabama  \n1  [[[177.9562368, -52.2352051], [177.9557082, -5...      Alaska  \n2  [[-114.5693264, -35.1720074], [-114.5693466, -...     Arizona  \n3  [[-89.704387, -35.819607], [-89.7031009, -35.8...    Arkansas  \n4  [[[-119.0693149, -33.4126665], [-119.0615902, ...  California  ",
      "text/html": "<div>\n<style scoped>\n    .dataframe tbody tr th:only-of-type {\n        vertical-align: middle;\n    }\n\n    .dataframe tbody tr th {\n        vertical-align: top;\n    }\n\n    .dataframe thead th {\n        text-align: right;\n    }\n</style>\n<table border=\"1\" class=\"dataframe\">\n  <thead>\n    <tr style=\"text-align: right;\">\n      <th></th>\n      <th>file_name</th>\n      <th>type</th>\n      <th>coordinates</th>\n      <th>state</th>\n    </tr>\n  </thead>\n  <tbody>\n    <tr>\n      <th>0</th>\n      <td>alabama.geojson</td>\n      <td>polygon</td>\n      <td>[[-88.3956563, -30.3812365], [-88.3942367, -30...</td>\n      <td>Alabama</td>\n    </tr>\n    <tr>\n      <th>1</th>\n      <td>Alaska.geojson</td>\n      <td>multipolygon</td>\n      <td>[[[177.9562368, -52.2352051], [177.9557082, -5...</td>\n      <td>Alaska</td>\n    </tr>\n    <tr>\n      <th>2</th>\n      <td>Arizona.geojson</td>\n      <td>polygon</td>\n      <td>[[-114.5693264, -35.1720074], [-114.5693466, -...</td>\n      <td>Arizona</td>\n    </tr>\n    <tr>\n      <th>3</th>\n      <td>Arkansas.geojson</td>\n      <td>polygon</td>\n      <td>[[-89.704387, -35.819607], [-89.7031009, -35.8...</td>\n      <td>Arkansas</td>\n    </tr>\n    <tr>\n      <th>4</th>\n      <td>California.geojson</td>\n      <td>multipolygon</td>\n      <td>[[[-119.0693149, -33.4126665], [-119.0615902, ...</td>\n      <td>California</td>\n    </tr>\n  </tbody>\n</table>\n</div>"
     },
     "execution_count": 179,
     "metadata": {},
     "output_type": "execute_result"
    }
   ],
   "source": [
    "coordinates.head()"
   ],
   "metadata": {
    "collapsed": false,
    "pycharm": {
     "name": "#%%\n"
    }
   }
  },
  {
   "cell_type": "code",
   "execution_count": 172,
   "outputs": [
    {
     "name": "stdout",
     "output_type": "stream",
     "text": [
      "Alaska\n",
      "California\n",
      "Florida\n",
      "Hawaii\n",
      "Kentucky\n",
      "Maine\n",
      "New York\n",
      "Rhode Island\n"
     ]
    }
   ],
   "source": [
    "for state, c in coordinates[coordinates[\"type\"] == \"multipolygon\"][[\"state\", \"coordinates\"]].values:\n",
    "   print(state)\n",
    "   with open(f\"state_coordinates/multipolygon/{state}.txt\", 'w') as f:\n",
    "       f.write(str(c))"
   ],
   "metadata": {
    "collapsed": false,
    "pycharm": {
     "name": "#%%\n"
    }
   }
  },
  {
   "cell_type": "code",
   "execution_count": 180,
   "outputs": [],
   "source": [
    "coordinates.to_csv(\"state_coordinates/csv/coordinates.csv\", index=False)"
   ],
   "metadata": {
    "collapsed": false,
    "pycharm": {
     "name": "#%%\n"
    }
   }
  },
  {
   "cell_type": "code",
   "execution_count": null,
   "outputs": [],
   "source": [],
   "metadata": {
    "collapsed": false,
    "pycharm": {
     "name": "#%%\n"
    }
   }
  }
 ],
 "metadata": {
  "kernelspec": {
   "display_name": "Python 3",
   "language": "python",
   "name": "python3"
  },
  "language_info": {
   "codemirror_mode": {
    "name": "ipython",
    "version": 2
   },
   "file_extension": ".py",
   "mimetype": "text/x-python",
   "name": "python",
   "nbconvert_exporter": "python",
   "pygments_lexer": "ipython2",
   "version": "2.7.6"
  }
 },
 "nbformat": 4,
 "nbformat_minor": 0
}